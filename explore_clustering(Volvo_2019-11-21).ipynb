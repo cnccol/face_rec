{
 "cells": [
  {
   "cell_type": "code",
   "execution_count": 1,
   "metadata": {},
   "outputs": [],
   "source": [
    "import os\n",
    "import time\n",
    "import numpy as np\n",
    "import pandas as pd\n",
    "from sklearn.cluster import DBSCAN\n",
    "import cv2"
   ]
  },
  {
   "cell_type": "code",
   "execution_count": 2,
   "metadata": {},
   "outputs": [
    {
     "data": {
      "text/plain": [
       "['2019-11-07_to_2019-11-17',\n",
       " '2019-11-08_to_2019-11-18',\n",
       " '2019-11-09_to_2019-11-19',\n",
       " '2019-11-10_to_2019-11-20',\n",
       " '2019-11-11_to_2019-11-21',\n",
       " '2019-11-12_to_2019-11-22',\n",
       " '2019-11-13_to_2019-11-23',\n",
       " '2019-11-14_to_2019-11-24',\n",
       " '2019-11-15_to_2019-11-25',\n",
       " '2019-11-16_to_2019-11-26',\n",
       " '2019-11-17_to_2019-11-27']"
      ]
     },
     "execution_count": 2,
     "metadata": {},
     "output_type": "execute_result"
    }
   ],
   "source": [
    "names = [name[:-4] for name in sorted(os.listdir('4/core_CSVs/'))]\n",
    "\n",
    "assert(\n",
    "    names == [name[:-4] for name in sorted(os.listdir('4/core_encodings/'))]\n",
    ")\n",
    "\n",
    "short_names = [name[8:14] + name[-2:] for name in names]\n",
    "\n",
    "names"
   ]
  },
  {
   "cell_type": "code",
   "execution_count": 3,
   "metadata": {},
   "outputs": [
    {
     "name": "stdout",
     "output_type": "stream",
     "text": [
      "<class 'pandas.core.frame.DataFrame'>\n",
      "Int64Index: 53270 entries, 0 to 53269\n",
      "Data columns (total 13 columns):\n",
      "date             53270 non-null object\n",
      "frame            53270 non-null int64\n",
      "face_in_frame    53270 non-null int64\n",
      "h_face           53270 non-null int64\n",
      "RGB              53270 non-null object\n",
      "score            53270 non-null float64\n",
      "face_type        53270 non-null int64\n",
      "gender           53270 non-null object\n",
      "gender_conf      53270 non-null float64\n",
      "Concesionario    53270 non-null int64\n",
      "mean_RGB         53270 non-null float64\n",
      "jump_date        53270 non-null bool\n",
      "match            53270 non-null int64\n",
      "dtypes: bool(1), float64(3), int64(6), object(3)\n",
      "memory usage: 5.3+ MB\n"
     ]
    }
   ],
   "source": [
    "csvs = {short_name: pd.read_csv('4/core_CSVs/' + name + '.csv', index_col=0) for name, short_name in zip(names, short_names)}\n",
    "\n",
    "csvs[short_names[0]].info() "
   ]
  },
  {
   "cell_type": "markdown",
   "metadata": {},
   "source": [
    "# Compare two clusterings for 21\n",
    "(21 'had' ZERO visits)"
   ]
  },
  {
   "cell_type": "code",
   "execution_count": 4,
   "metadata": {},
   "outputs": [
    {
     "name": "stdout",
     "output_type": "stream",
     "text": [
      "(50665, 12) (52334, 12)\n"
     ]
    }
   ],
   "source": [
    "clustering_a = csvs['11_to_21']\n",
    "clustering_b = csvs['12_to_22']\n",
    "\n",
    "print(clustering_a.shape, clustering_b.shape)"
   ]
  },
  {
   "cell_type": "code",
   "execution_count": 5,
   "metadata": {},
   "outputs": [
    {
     "name": "stdout",
     "output_type": "stream",
     "text": [
      "1994 [ 0 83]\n",
      "1935 [0]\n"
     ]
    }
   ],
   "source": [
    "clustering_a_21 = clustering_a[clustering_a.date == '2019-11-21']\n",
    "clustering_b_21 = clustering_b[clustering_b.date == '2019-11-21']\n",
    "\n",
    "print(len(clustering_a_21), clustering_a_21.match.unique())\n",
    "print(len(clustering_b_21), clustering_b_21.match.unique())"
   ]
  },
  {
   "cell_type": "code",
   "execution_count": 6,
   "metadata": {},
   "outputs": [
    {
     "data": {
      "text/plain": [
       "7839"
      ]
     },
     "execution_count": 6,
     "metadata": {},
     "output_type": "execute_result"
    }
   ],
   "source": [
    "img_numbers = sorted([int(name[:-4]) for name in os.listdir('4/frames_cnn_hog/2019-11-21/')])\n",
    "len(img_numbers)"
   ]
  },
  {
   "cell_type": "code",
   "execution_count": 7,
   "metadata": {},
   "outputs": [
    {
     "name": "stdout",
     "output_type": "stream",
     "text": [
      "1983 5856\n",
      "1926 5913\n"
     ]
    }
   ],
   "source": [
    "core_imgs_a = []\n",
    "non_core_imgs_a = []\n",
    "\n",
    "core_imgs_b = []\n",
    "non_core_imgs_b = []\n",
    "\n",
    "for number in img_numbers:\n",
    "    if number in clustering_a_21.frame.values:\n",
    "        core_imgs_a.append(number)\n",
    "    else:\n",
    "        non_core_imgs_a.append(number)\n",
    "    \n",
    "    if number in clustering_b_21.frame.values:\n",
    "        core_imgs_b.append(number)\n",
    "    else:\n",
    "        non_core_imgs_b.append(number)\n",
    "        \n",
    "print(len(core_imgs_a), len(non_core_imgs_a))\n",
    "print(len(core_imgs_b), len(non_core_imgs_b))"
   ]
  },
  {
   "cell_type": "code",
   "execution_count": 8,
   "metadata": {},
   "outputs": [],
   "source": [
    "def see_frames(imgs_dir, img_numbers, ms_waitKey=80, text=None):\n",
    "    for number in img_numbers:\n",
    "        img = cv2.imread(os.path.join(imgs_dir, str(number) + '.jpg'))\n",
    "        \n",
    "        if text:\n",
    "            cv2.putText(img, text, (20, 50), cv2.FONT_HERSHEY_TRIPLEX, 1, (0, 0, 200), 2)\n",
    "        \n",
    "        cv2.imshow(imgs_dir, img)\n",
    "        key = cv2.waitKey(ms_waitKey) & 0xFF\n",
    "        if key == ord('q'):\n",
    "            break\n",
    "    \n",
    "    cv2.destroyWindow(imgs_dir)"
   ]
  },
  {
   "cell_type": "code",
   "execution_count": 9,
   "metadata": {},
   "outputs": [],
   "source": [
    "see_frames('4/frames_cnn_hog/2019-11-21/', core_imgs_a)"
   ]
  },
  {
   "cell_type": "markdown",
   "metadata": {},
   "source": [
    "## Is any clustering of 21 decent?\n",
    "(panic)"
   ]
  },
  {
   "cell_type": "code",
   "execution_count": 10,
   "metadata": {},
   "outputs": [
    {
     "name": "stdout",
     "output_type": "stream",
     "text": [
      "11_to_21\n",
      "1994 [ 0 83]\n",
      "\n",
      "12_to_22\n",
      "1935 [0]\n",
      "\n",
      "13_to_23\n",
      "1849 [0]\n",
      "\n",
      "14_to_24\n",
      "1835 [0]\n",
      "\n",
      "15_to_25\n",
      "1828 [0]\n",
      "\n",
      "16_to_26\n",
      "1800 [0]\n",
      "\n",
      "17_to_27\n",
      "1759 [0]\n",
      "\n"
     ]
    }
   ],
   "source": [
    "for sn in csvs:\n",
    "    clustering = csvs[sn]\n",
    "    if '2019-11-21' in clustering.date.unique():\n",
    "        print(sn)\n",
    "        clustering_21 = clustering[clustering.date == '2019-11-21']\n",
    "        print(len(clustering_21), clustering_21.match.unique())\n",
    "        print()"
   ]
  },
  {
   "cell_type": "markdown",
   "metadata": {},
   "source": [
    "## Let's just cluster 21\n",
    "\n",
    "(panic panic)"
   ]
  },
  {
   "cell_type": "code",
   "execution_count": 10,
   "metadata": {},
   "outputs": [],
   "source": [
    "CSVs_dir = '4/CSVs_cnn_hog/'\n",
    "date = '2019-11-21'\n",
    "door = 4\n",
    "\n",
    "encodings_dir = '4/encodings_cnn_hog/'\n",
    "n_jobs = 6\n",
    "eps = 0.38\n",
    "min_samples = 5\n",
    "max_h_face = 182\n",
    "min_rgb_mean = 20\n",
    "min_hog_score = 0\n",
    "face_types = [0, 1, 2]\n",
    "h_face_inside = 143\n",
    "worker_visits_threshold = 2\n",
    "\n",
    "df_day = pd.read_csv(os.path.join(CSVs_dir, (date + '_1.csv')),\n",
    "                index_col=0)\n",
    "df_day['Concesionario'] = door\n",
    "df_day['mean_RGB'] = (df_day['RGB'].str[1: -1].str.split(expand=True)\n",
    "                      .astype(np.float64).mean(axis=1))\n",
    "\n",
    "npy_day = np.load(os.path.join(encodings_dir, (date + '_1.npy')))\n",
    "\n",
    "filter_faces = ((df_day.h_face <= max_h_face) &\n",
    "                (df_day.mean_RGB >= min_rgb_mean) &\n",
    "                (df_day.score >= min_hog_score) &\n",
    "                (df_day.face_type.isin(face_types)))\n",
    "df_day = df_day[filter_faces].reset_index(drop=True)\n",
    "npy_day = npy_day[filter_faces]\n",
    "\n",
    "core_df = df_day\n",
    "core_npy = npy_day\n",
    "\n",
    "clt = DBSCAN(eps=eps, min_samples=min_samples, n_jobs=n_jobs)\n",
    "\n",
    "clt.fit(core_npy)\n",
    "\n",
    "core_indices = clt.core_sample_indices_\n",
    "core_df = core_df.loc[core_indices, :].reset_index(drop=True)\n",
    "core_df['match'] = clt.labels_[core_indices]\n",
    "\n",
    "# visitors = set([core_df.loc[i, 'match'] for i in core_df.index if\n",
    "#                 core_df.loc[i, 'h_face'] > h_face_inside])\n",
    "\n",
    "# visitors_boolean = core_df['match'].isin(visitors)\n",
    "# core_df = core_df[visitors_boolean].reset_index(drop=True)\n",
    "\n",
    "core_npy = clt.components_#[visitors_boolean]\n"
   ]
  },
  {
   "cell_type": "code",
   "execution_count": 11,
   "metadata": {},
   "outputs": [
    {
     "data": {
      "text/plain": [
       "159"
      ]
     },
     "execution_count": 11,
     "metadata": {},
     "output_type": "execute_result"
    }
   ],
   "source": [
    "len(core_df.match.unique())"
   ]
  },
  {
   "cell_type": "code",
   "execution_count": 12,
   "metadata": {},
   "outputs": [
    {
     "data": {
      "text/plain": [
       "array([ 2,  4, 15, 17, 30, 31, 79, 83, 85, 86])"
      ]
     },
     "execution_count": 12,
     "metadata": {},
     "output_type": "execute_result"
    }
   ],
   "source": [
    "visitors = set([core_df.loc[i, 'match'] for i in core_df.index if\n",
    "                core_df.loc[i, 'h_face'] > h_face_inside])\n",
    "\n",
    "visitors_boolean = core_df['match'].isin(visitors)\n",
    "visitors_df = core_df[visitors_boolean].reset_index(drop=True)\n",
    "\n",
    "visitors_df.match.unique()"
   ]
  },
  {
   "cell_type": "code",
   "execution_count": 13,
   "metadata": {},
   "outputs": [
    {
     "data": {
      "text/plain": [
       "array([  0,   1,   3,   5,   6,   7,   8,   9,  10,  11,  12,  13,  14,\n",
       "        16,  18,  19,  20,  21,  22,  23,  24,  25,  26,  27,  28,  29,\n",
       "        32,  33,  34,  35,  36,  37,  38,  39,  40,  41,  42,  43,  44,\n",
       "        45,  46,  47,  48,  49,  50,  51,  52,  53,  54,  55,  56,  57,\n",
       "        58,  59,  60,  61,  62,  63,  64,  65,  66,  67,  68,  69,  70,\n",
       "        71,  72,  73,  74,  75,  76,  77,  78,  80,  81,  82,  84,  87,\n",
       "        88,  89,  90,  91,  92,  93,  94,  95,  96,  97,  98,  99, 100,\n",
       "       101, 102, 103, 104, 105, 106, 107, 108, 109, 110, 111, 112, 113,\n",
       "       114, 115, 116, 117, 118, 119, 120, 121, 122, 123, 124, 125, 126,\n",
       "       127, 128, 129, 130, 131, 132, 133, 134, 135, 136, 137, 138, 139,\n",
       "       140, 141, 142, 143, 144, 145, 146, 147, 148, 149, 150, 151, 152,\n",
       "       153, 154, 155, 156, 157, 158])"
      ]
     },
     "execution_count": 13,
     "metadata": {},
     "output_type": "execute_result"
    }
   ],
   "source": [
    "non_visitors_df = core_df[~visitors_boolean].reset_index(drop=True)\n",
    "\n",
    "non_visitors_df.match.unique()"
   ]
  },
  {
   "cell_type": "code",
   "execution_count": 15,
   "metadata": {},
   "outputs": [],
   "source": [
    "see_frames('4/frames_cnn_hog/2019-11-21/', non_visitors_df.frame.values)"
   ]
  },
  {
   "cell_type": "markdown",
   "metadata": {},
   "source": [
    "### See visitors"
   ]
  },
  {
   "cell_type": "code",
   "execution_count": 17,
   "metadata": {},
   "outputs": [],
   "source": [
    "def see_person(imgs_dir, df, person, ms_waitKey=80):\n",
    "    person_df = df[df.match == person]\n",
    "    frames = person_df.frame.values\n",
    "    \n",
    "    see_frames(imgs_dir, frames, ms_waitKey=ms_waitKey, text=str(person))"
   ]
  },
  {
   "cell_type": "code",
   "execution_count": 26,
   "metadata": {},
   "outputs": [],
   "source": [
    "visitors_list = visitors_df.match.unique()\n",
    "see_person('4/frames_cnn_hog/2019-11-21/', visitors_df, visitors_list[0])"
   ]
  },
  {
   "cell_type": "code",
   "execution_count": 24,
   "metadata": {},
   "outputs": [
    {
     "ename": "KeyboardInterrupt",
     "evalue": "",
     "output_type": "error",
     "traceback": [
      "\u001b[0;31m---------------------------------------------------------------------------\u001b[0m",
      "\u001b[0;31mKeyboardInterrupt\u001b[0m                         Traceback (most recent call last)",
      "\u001b[0;32m<ipython-input-24-7a6c959e2ff2>\u001b[0m in \u001b[0;36m<module>\u001b[0;34m\u001b[0m\n\u001b[1;32m      5\u001b[0m     \u001b[0;32mexcept\u001b[0m \u001b[0mKeyboardInterrupt\u001b[0m\u001b[0;34m:\u001b[0m\u001b[0;34m\u001b[0m\u001b[0;34m\u001b[0m\u001b[0m\n\u001b[1;32m      6\u001b[0m         \u001b[0;32mbreak\u001b[0m\u001b[0;34m\u001b[0m\u001b[0;34m\u001b[0m\u001b[0m\n\u001b[0;32m----> 7\u001b[0;31m     \u001b[0mtime\u001b[0m\u001b[0;34m.\u001b[0m\u001b[0msleep\u001b[0m\u001b[0;34m(\u001b[0m\u001b[0;36m1\u001b[0m\u001b[0;34m)\u001b[0m\u001b[0;34m\u001b[0m\u001b[0;34m\u001b[0m\u001b[0m\n\u001b[0m\u001b[1;32m      8\u001b[0m \u001b[0;34m\u001b[0m\u001b[0m\n\u001b[1;32m      9\u001b[0m \u001b[0mcv2\u001b[0m\u001b[0;34m.\u001b[0m\u001b[0mdestroyAllWindows\u001b[0m\u001b[0;34m(\u001b[0m\u001b[0;34m)\u001b[0m\u001b[0;34m\u001b[0m\u001b[0;34m\u001b[0m\u001b[0m\n",
      "\u001b[0;31mKeyboardInterrupt\u001b[0m: "
     ]
    }
   ],
   "source": [
    "for i in range(10):\n",
    "    try:\n",
    "        see_person('4/frames_cnn_hog/2019-11-21/', \n",
    "                   visitors_df, visitors_list[i])\n",
    "    except KeyboardInterrupt:\n",
    "        break\n",
    "    time.sleep(1)\n",
    "\n",
    "cv2.destroyAllWindows()"
   ]
  }
 ],
 "metadata": {
  "kernelspec": {
   "display_name": "Python 3",
   "language": "python",
   "name": "python3"
  },
  "language_info": {
   "codemirror_mode": {
    "name": "ipython",
    "version": 3
   },
   "file_extension": ".py",
   "mimetype": "text/x-python",
   "name": "python",
   "nbconvert_exporter": "python",
   "pygments_lexer": "ipython3",
   "version": "3.6.8"
  }
 },
 "nbformat": 4,
 "nbformat_minor": 4
}
