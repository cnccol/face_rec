{
 "cells": [
  {
   "cell_type": "code",
   "execution_count": 2,
   "metadata": {},
   "outputs": [],
   "source": [
    "import pandas as pd\n",
    "from cluster_1_door import make_visits_df"
   ]
  },
  {
   "cell_type": "code",
   "execution_count": 3,
   "metadata": {},
   "outputs": [
    {
     "name": "stdout",
     "output_type": "stream",
     "text": [
      "<class 'pandas.core.frame.DataFrame'>\n",
      "Int64Index: 186164 entries, 0 to 186163\n",
      "Data columns (total 13 columns):\n",
      "date             186164 non-null object\n",
      "frame            186164 non-null int64\n",
      "face_in_frame    186164 non-null int64\n",
      "h_face           186164 non-null int64\n",
      "RGB              186164 non-null object\n",
      "score            186164 non-null float64\n",
      "face_type        186164 non-null int64\n",
      "gender           186164 non-null object\n",
      "gender_conf      186164 non-null float64\n",
      "Concesionario    186164 non-null int64\n",
      "mean_RGB         186164 non-null float64\n",
      "jump_date        186164 non-null bool\n",
      "match            186164 non-null int64\n",
      "dtypes: bool(1), float64(3), int64(6), object(3)\n",
      "memory usage: 18.6+ MB\n",
      "None\n",
      "<class 'pandas.core.frame.DataFrame'>\n",
      "Int64Index: 176442 entries, 0 to 176441\n",
      "Data columns (total 12 columns):\n",
      "date             176442 non-null object\n",
      "frame            176442 non-null int64\n",
      "face_in_frame    176442 non-null int64\n",
      "h_face           176442 non-null int64\n",
      "RGB              176442 non-null object\n",
      "score            176442 non-null float64\n",
      "face_type        176442 non-null int64\n",
      "gender           176442 non-null object\n",
      "gender_conf      176442 non-null float64\n",
      "Concesionario    176442 non-null int64\n",
      "mean_RGB         176442 non-null float64\n",
      "match            176442 non-null int64\n",
      "dtypes: float64(3), int64(6), object(3)\n",
      "memory usage: 17.5+ MB\n",
      "None\n"
     ]
    }
   ],
   "source": [
    "cluster_ayer = pd.read_csv('1/core_CSVs/2019-11-07_to_2019-11-17.csv', index_col=0)\n",
    "cluster_hoy = pd.read_csv('1/core_CSVs/2019-11-08_to_2019-11-18.csv', index_col=0)\n",
    "\n",
    "print(cluster_ayer.info())\n",
    "print(cluster_hoy.info())"
   ]
  },
  {
   "cell_type": "code",
   "execution_count": 4,
   "metadata": {},
   "outputs": [
    {
     "name": "stdout",
     "output_type": "stream",
     "text": [
      "<class 'pandas.core.frame.DataFrame'>\n",
      "Int64Index: 255 entries, 1 to 270\n",
      "Data columns (total 5 columns):\n",
      "fecha            255 non-null object\n",
      "hora             255 non-null object\n",
      "persona          255 non-null object\n",
      "Concesionario    255 non-null float64\n",
      "Sexo             255 non-null object\n",
      "dtypes: float64(1), object(4)\n",
      "memory usage: 12.0+ KB\n",
      "None\n",
      "<class 'pandas.core.frame.DataFrame'>\n",
      "Int64Index: 239 entries, 1 to 257\n",
      "Data columns (total 5 columns):\n",
      "fecha            239 non-null object\n",
      "hora             239 non-null object\n",
      "persona          239 non-null object\n",
      "Concesionario    239 non-null float64\n",
      "Sexo             239 non-null object\n",
      "dtypes: float64(1), object(4)\n",
      "memory usage: 11.2+ KB\n",
      "None\n"
     ]
    }
   ],
   "source": [
    "tv_ayer = make_visits_df(cluster_ayer, 2)\n",
    "tv_hoy = make_visits_df(cluster_hoy, 2)\n",
    "\n",
    "print(tv_ayer.info())\n",
    "print(tv_hoy.info())"
   ]
  },
  {
   "cell_type": "code",
   "execution_count": 20,
   "metadata": {},
   "outputs": [
    {
     "name": "stdout",
     "output_type": "stream",
     "text": [
      "[0, -1, -2, 1, -6, 1, 0, 0, 2, -4]\n",
      "[13, 27, 16, 23, 19, 22, 21, 17, 39, 39]\n",
      "[13, 26, 14, 24, 13, 23, 21, 17, 41, 35]\n"
     ]
    }
   ],
   "source": [
    "conteo_ayer = list(tv_ayer.pivot_table(values='hora', index='fecha', columns='Concesionario', aggfunc='count')[1.0])[1:]\n",
    "conteo_hoy = list(tv_hoy.pivot_table(values='hora', index='fecha', columns='Concesionario', aggfunc='count')[1.0])[:-1]\n",
    "\n",
    "print([h - a for h, a in zip(conteo_hoy, conteo_ayer)])\n",
    "print(conteo_ayer)\n",
    "print(conteo_hoy)"
   ]
  },
  {
   "cell_type": "code",
   "execution_count": 16,
   "metadata": {},
   "outputs": [
    {
     "data": {
      "text/plain": [
       "Float64Index([1.0], dtype='float64', name='Concesionario')"
      ]
     },
     "execution_count": 16,
     "metadata": {},
     "output_type": "execute_result"
    }
   ],
   "source": [
    "tv_ayer.pivot_table(values='hora', index='fecha', columns='Concesionario', aggfunc='count').columns"
   ]
  }
 ],
 "metadata": {
  "kernelspec": {
   "display_name": "Python 3",
   "language": "python",
   "name": "python3"
  },
  "language_info": {
   "codemirror_mode": {
    "name": "ipython",
    "version": 3
   },
   "file_extension": ".py",
   "mimetype": "text/x-python",
   "name": "python",
   "nbconvert_exporter": "python",
   "pygments_lexer": "ipython3",
   "version": "3.6.8"
  }
 },
 "nbformat": 4,
 "nbformat_minor": 4
}
